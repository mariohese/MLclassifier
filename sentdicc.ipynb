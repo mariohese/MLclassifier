{
 "cells": [
  {
   "cell_type": "code",
   "execution_count": 42,
   "metadata": {},
   "outputs": [
    {
     "name": "stdout",
     "output_type": "stream",
     "text": [
      "<class 'str'>\n",
      "ENGLISH TRANSLATION: 'A MESSAGE TO THE TRUTHFUL IN SYRIA - SHEIKH ABU MUHAMMED AL MAQDISI: https://justpaste.it/MESSAGETOTHETRUTHFULINSYRIA https://twitter.com/account/suspended \n"
     ]
    }
   ],
   "source": [
    "import pandas as pd\n",
    "import pickle\n",
    "from preprocessor import preProcessSerie\n",
    "\n",
    "isis = pd.read_csv('isisfanboy.csv')\n",
    "about = pd.read_csv('aboutisis.csv')\n",
    "\n",
    "isis = isis[:17392]\n",
    "about = about[:17392]\n",
    "#El máximo que puedo usar es 17392\n",
    "\n",
    "dataframe = pd.concat([isis, about])\n",
    "\n",
    "dfmc = pickle.load( open( \"sentimentsdf.p\", \"rb\" ) )\n",
    "\n",
    "#dataframe[\"sentiments\"] = dfmc\n",
    "X = dataframe[\"tweets\"].values\n",
    "\n",
    "print(type(X[0]))\n",
    "print(X[0])\n",
    "\n"
   ]
  },
  {
   "cell_type": "code",
   "execution_count": 59,
   "metadata": {},
   "outputs": [
    {
     "name": "stdout",
     "output_type": "stream",
     "text": [
      "ENGLISH TRANSLATION: 'A MESSAGE TO THE TRUTHFUL IN SYRIA - SHEIKH ABU MUHAMMED AL MAQDISI: https://justpaste.it/MESSAGETOTHETRUTHFULINSYRIA https://twitter.com/account/suspended \n",
      "P\n",
      "P\n",
      "ENGLISH TRANSLATION: SHEIKH FATIH AL JAWLANI 'FOR THE PEOPLE OF INTEGRITY, SACRIFICE IS EASY' https://justpaste.it/SHEIKHALJAWLANINEWMESSAGE https://twitter.com/account/suspended \n",
      "P\n",
      "P\n",
      "ENGLISH TRANSLATION: FIRST AUDIO MEETING WITH SHEIKH FATIH AL JAWLANI (HA): https://justpaste.it/MeetingWithSheikhFatih https://twitter.com/account/suspended \n",
      "NONE\n",
      "NONE\n",
      "ENGLISH TRANSLATION: SHEIKH NASIR AL WUHAYSHI (HA), LEADER OF AQAP: 'THE PROMISE OF VICTORY': https://justpaste.it/AQAPPromiseOfVictory https://twitter.com/account/suspended \n",
      "P\n",
      "P\n",
      "ENGLISH TRANSLATION: AQAP: 'RESPONSE TO SHEIKH BAGHDADIS STATEMENT 'ALTHOUGH THE DISBELIEVERS DISLIKE IT.' https://justpaste.it/i4xj \n",
      "N\n",
      "N\n",
      "THE SECOND CLIP IN A DA'WAH SERIES BY A SOLDIER OF JN: Video Link :https://www.youtube.com/watch?v=UgjnKYgfxR4%26feature=youtu.be https://twitter.com/account/suspended \n",
      "NONE\n",
      "NONE\n",
      "ENGLISH TRANSCRIPT : OH MURABIT! : https://justpaste.it/OhMurabit https://twitter.com/account/suspended \n",
      "NONE\n",
      "NONE\n",
      "ENGLISH TRANSLATION: 'A COLLECTION OF THE WORDS OF THE U'LAMA REGARDING DAWLAH': https://justpaste.it/UlamaRegardingDawlah https://twitter.com/account/suspended \n",
      "NONE\n",
      "NONE\n",
      "Aslm Please share our new account after the previous one was suspended. @KhalidMaghrebi @seifulmaslul123 @CheerLeadUnited \n",
      "N\n",
      "N\n",
      "ENGLISH TRANSLATION: AQAP STATEMENT REGARDING THE BLESSED RAID IN FRANCE:https://justpaste.it/AQAPFRENCHRAID https://twitter.com/account/suspended \n",
      "P\n",
      "P\n",
      "@KhalidMaghrebi @seifulmaslul123 @CheerLeadUnited @IbnNabih1 \n",
      "NONE\n",
      "NONE\n",
      "NEW LINK, AFTER PREVIOUS ONE TAKEN DOWN:AQAP-'THE FACES HAVE BEEN BRIGHTENED' -REGARDING THE BLESSED ATTACK IN FRANCE https://justpaste.it/FRENCHRAIDAQAP \n",
      "P\n",
      "P\n",
      "ENGLISH TRANSLATION- SHEIKH ABU HASAN AL KUWAITI (HA) ADVICE OF NABI S.A.W TO THE MUJAHIDEEN: https://archive.org/details/WASIYAH https://twitter.com/account/suspended \n",
      "NONE\n",
      "NONE\n",
      "SHEIKH ABU HASSAN AL KUWAITI (HA): ADVICE OF NABI SAW TO THE MUJAHIDEEN: https://justpaste.it/ADVICEOFRASOOLULLAHSAW https://twitter.com/account/suspended \n",
      "NONE\n",
      "NONE\n",
      "@IbnNabih1 @MuwMedia @Dawlat_islam7 Not translating it either. \n",
      "NONE\n",
      "NONE\n",
      "Aslm, anybody translating the new JN video? Will translate it if nobody else is @IbnNabih1 @KhalidMaghrebi_ @MuwMedia @Polder_Mujahid \n",
      "NONE\n",
      "NONE\n",
      "@IbnNabih1 @KhalidMaghrebi_ @MuwMedia @Polder_Mujahid So we will translate it then inshallah let us knw if anybody is available for the subs \n",
      "P\n",
      "P\n",
      "@IbnNabih1 @abuw_ukasyah @polder_mujaahid @AbuIzzadeen2 @MuwMedia half way through, a few more days inshallah, been very busy. \n",
      "NONE\n",
      "NONE\n",
      "@AbdirahmanBash2 @KhalidMaghrebi_ @IbnNabih1 @Polder_Mujahid Aslm, we have completed the translation with the exception of a few news \n",
      "NONE\n",
      "NONE\n",
      "34783\n",
      "34783\n",
      "25866\n"
     ]
    }
   ],
   "source": [
    "dfmc = pickle.load( open( \"mcsentiments.p\", \"rb\" ) )\n",
    "\n",
    "#We create a counter for going across the list\n",
    "counter = 0\n",
    "#Empty dict\n",
    "d = {}\n",
    "\n",
    "for tweet in X:\n",
    "    #Fill in the entries one by one\n",
    "    d[tweet] = dfmc[counter]\n",
    "    counter = counter + 1\n",
    "    if counter < 20:\n",
    "        print(tweet)\n",
    "        print(d[tweet])\n",
    "        print(dfmc[counter - 1])\n",
    "        \n",
    "print(len(X))\n",
    "print(len(dfmc))\n",
    "print(len(d))\n"
   ]
  },
  {
   "cell_type": "code",
   "execution_count": 60,
   "metadata": {
    "collapsed": true
   },
   "outputs": [],
   "source": [
    "pickle.dump(d, open(\"sentdicc.p\", \"wb\"))"
   ]
  },
  {
   "cell_type": "code",
   "execution_count": 1,
   "metadata": {
    "collapsed": true
   },
   "outputs": [],
   "source": [
    "import pickle\n",
    "sentdicc = pickle.load( open( \"sentdicc.p\", \"rb\" ) )"
   ]
  },
  {
   "cell_type": "code",
   "execution_count": 5,
   "metadata": {},
   "outputs": [
    {
     "name": "stdout",
     "output_type": "stream",
     "text": [
      "P+\n",
      "0\n",
      "P\n",
      "3584\n",
      "NM\n",
      "0\n",
      "N\n",
      "6700\n",
      "NEU\n",
      "500\n",
      "NONE\n",
      "6607\n"
     ]
    }
   ],
   "source": [
    "import pandas as pd\n",
    "isis = pd.read_csv('isisfanboy.csv')\n",
    "about = pd.read_csv('aboutisis.csv')\n",
    "\n",
    "about = isis['tweets'][:17392].values\n",
    "\n",
    "pm = 0\n",
    "p = 0\n",
    "nm = 0\n",
    "n = 0\n",
    "neu = 0\n",
    "none = 0\n",
    "\n",
    "for i in about:\n",
    "    sent = \"\"\n",
    "    try:\n",
    "        sent = sentdicc[i]\n",
    "    except KeyError:\n",
    "        sent = \"NONE\"\n",
    "        \n",
    "    if(sent == \"P+\"):\n",
    "        p = p + 1\n",
    "    if(sent == \"P\"):\n",
    "        p = p + 1\n",
    "    if(sent == \"N+\"):\n",
    "        n = n + 1\n",
    "    if(sent == \"N\"):\n",
    "        n = n + 1\n",
    "    if(sent == \"NEU\"):\n",
    "        neu = neu + 1\n",
    "    if(sent == \"NONE\"):\n",
    "        none = none + 1\n",
    "\n",
    "print(\"P+\")\n",
    "print(pm)\n",
    "print(\"P\")\n",
    "print(p)\n",
    "print(\"NM\")\n",
    "print(nm)\n",
    "print(\"N\")\n",
    "print(n)\n",
    "print(\"NEU\")\n",
    "print(neu)\n",
    "print(\"NONE\")\n",
    "print(none)"
   ]
  },
  {
   "cell_type": "code",
   "execution_count": 6,
   "metadata": {},
   "outputs": [
    {
     "name": "stdout",
     "output_type": "stream",
     "text": [
      "[3584, 500, 6700]\n"
     ]
    }
   ],
   "source": [
    "c = 250\n",
    "tweets = []\n",
    "while c <= 6750:\n",
    "    tweets.append(c)\n",
    "    c = c + 250\n",
    "\n",
    "y = []\n",
    "y.append(p)\n",
    "y.append(neu)\n",
    "y.append(n)\n",
    "\n",
    "print(y)"
   ]
  },
  {
   "cell_type": "code",
   "execution_count": 7,
   "metadata": {},
   "outputs": [
    {
     "data": {
      "image/png": "[encoded data removed]",
      "text/plain": [
       "<matplotlib.figure.Figure at 0x7f5cf4855dd8>"
      ]
     },
     "metadata": {},
     "output_type": "display_data"
    }
   ],
   "source": [
    "import matplotlib.pyplot as plt\n",
    "import numpy as np\n",
    "\n",
    "x = [1,2,3]\n",
    "\n",
    "#fig, ax = plt.subplots()\n",
    "plt.bar(x, y, color=[\"b\",\"g\",\"r\"])\n",
    "plt.xticks(x, ('P', 'NEU', 'N'))\n",
    "plt.show()"
   ]
  }
 ],
 "metadata": {
  "kernelspec": {
   "display_name": "Python 3",
   "language": "python",
   "name": "python3"
  },
  "language_info": {
   "codemirror_mode": {
    "name": "ipython",
    "version": 3
   },
   "file_extension": ".py",
   "mimetype": "text/x-python",
   "name": "python",
   "nbconvert_exporter": "python",
   "pygments_lexer": "ipython3",
   "version": "3.6.1"
  }
 },
 "nbformat": 4,
 "nbformat_minor": 2
}
